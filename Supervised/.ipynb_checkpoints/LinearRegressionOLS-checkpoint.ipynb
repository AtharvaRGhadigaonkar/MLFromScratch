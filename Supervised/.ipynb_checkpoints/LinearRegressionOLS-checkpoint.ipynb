{
 "cells": [
  {
   "cell_type": "markdown",
   "id": "fa204563-e77d-41c2-a7bd-bfab7d81e5c8",
   "metadata": {},
   "source": [
    "# **Linear Regression Using OLS**"
   ]
  },
  {
   "cell_type": "markdown",
   "id": "6f88f393-04de-4f5f-a36b-b4fbdf5ff8ff",
   "metadata": {},
   "source": [
    "### **Importing Libraries**"
   ]
  },
  {
   "cell_type": "code",
   "execution_count": 1,
   "id": "ec62b1bb-abfa-481c-bc3b-fea3f9d7e6bb",
   "metadata": {},
   "outputs": [],
   "source": [
    "import numpy as np\n",
    "import pandas as pd\n",
    "import seaborn as sns"
   ]
  },
  {
   "cell_type": "markdown",
   "id": "2796730a-4836-4896-86d2-3706cdcd3469",
   "metadata": {},
   "source": [
    "## **Import DataFrame**"
   ]
  },
  {
   "cell_type": "code",
   "execution_count": 2,
   "id": "be6c2a70-7090-4d5c-b0c3-7b39a49d9549",
   "metadata": {},
   "outputs": [
    {
     "data": {
      "text/html": [
       "<div>\n",
       "<style scoped>\n",
       "    .dataframe tbody tr th:only-of-type {\n",
       "        vertical-align: middle;\n",
       "    }\n",
       "\n",
       "    .dataframe tbody tr th {\n",
       "        vertical-align: top;\n",
       "    }\n",
       "\n",
       "    .dataframe thead th {\n",
       "        text-align: right;\n",
       "    }\n",
       "</style>\n",
       "<table border=\"1\" class=\"dataframe\">\n",
       "  <thead>\n",
       "    <tr style=\"text-align: right;\">\n",
       "      <th></th>\n",
       "      <th>X</th>\n",
       "      <th>Y</th>\n",
       "    </tr>\n",
       "  </thead>\n",
       "  <tbody>\n",
       "    <tr>\n",
       "      <th>0</th>\n",
       "      <td>1</td>\n",
       "      <td>2</td>\n",
       "    </tr>\n",
       "    <tr>\n",
       "      <th>1</th>\n",
       "      <td>2</td>\n",
       "      <td>4</td>\n",
       "    </tr>\n",
       "    <tr>\n",
       "      <th>2</th>\n",
       "      <td>3</td>\n",
       "      <td>5</td>\n",
       "    </tr>\n",
       "    <tr>\n",
       "      <th>3</th>\n",
       "      <td>4</td>\n",
       "      <td>4</td>\n",
       "    </tr>\n",
       "    <tr>\n",
       "      <th>4</th>\n",
       "      <td>5</td>\n",
       "      <td>5</td>\n",
       "    </tr>\n",
       "  </tbody>\n",
       "</table>\n",
       "</div>"
      ],
      "text/plain": [
       "   X  Y\n",
       "0  1  2\n",
       "1  2  4\n",
       "2  3  5\n",
       "3  4  4\n",
       "4  5  5"
      ]
     },
     "execution_count": 2,
     "metadata": {},
     "output_type": "execute_result"
    }
   ],
   "source": [
    "df=pd.DataFrame({\"X\":[1,2,3,4,5],\"Y\":[2,4,5,4,5]})\n",
    "df.head()"
   ]
  },
  {
   "cell_type": "markdown",
   "id": "5a3b41a4-8f02-460b-923f-254bb66e7bd4",
   "metadata": {},
   "source": [
    "## **ScatterPlot Of DataFrame**"
   ]
  },
  {
   "cell_type": "code",
   "execution_count": 3,
   "id": "b0805ea1-07f3-498d-bc31-ba8272867a9b",
   "metadata": {},
   "outputs": [
    {
     "data": {
      "text/plain": [
       "<Axes: >"
      ]
     },
     "execution_count": 3,
     "metadata": {},
     "output_type": "execute_result"
    },
    {
     "data": {
      "image/png": "[encoded data removed]",
      "text/plain": [
       "<Figure size 640x480 with 1 Axes>"
      ]
     },
     "metadata": {},
     "output_type": "display_data"
    }
   ],
   "source": [
    "sns.scatterplot(df)"
   ]
  },
  {
   "cell_type": "markdown",
   "id": "8bfaa433-022c-44ca-ac4c-f2a1f4a63360",
   "metadata": {},
   "source": [
    "## **Mean Calculation**"
   ]
  },
  {
   "cell_type": "code",
   "execution_count": 4,
   "id": "3867d53e-1606-4bf2-a14b-25c91889fd6b",
   "metadata": {},
   "outputs": [
    {
     "name": "stdout",
     "output_type": "stream",
     "text": [
      "3.0 4.0\n"
     ]
    }
   ],
   "source": [
    "#Mean cal\n",
    "x_mean = np.average(df[\"X\"])\n",
    "y_mean = np.average(df[\"Y\"])\n",
    "print(x_mean,y_mean)"
   ]
  },
  {
   "cell_type": "markdown",
   "id": "9bfb395b-d24c-4b55-877c-e4843b629015",
   "metadata": {},
   "source": [
    "### **Finding M ( Slope )**"
   ]
  },
  {
   "cell_type": "code",
   "execution_count": 5,
   "id": "5fe3fd2c-6645-4099-9f8d-7130a308b1ff",
   "metadata": {},
   "outputs": [
    {
     "name": "stdout",
     "output_type": "stream",
     "text": [
      "6.0 10.0\n"
     ]
    }
   ],
   "source": [
    "num =0\n",
    "den =0\n",
    "for i in range(0,len(df[\"X\"])):\n",
    "    num+=((df[\"X\"][i]-x_mean)*(df[\"Y\"][i]-y_mean))\n",
    "    den+=((df[\"X\"][i]-x_mean)*(df[\"X\"][i]-x_mean))\n",
    "print(num,den)\n",
    "m = num/den"
   ]
  },
  {
   "cell_type": "markdown",
   "id": "1a2fb722-536e-4922-9209-d0fc4512d824",
   "metadata": {},
   "source": [
    "### **Finding B ( Y - Intercept )**"
   ]
  },
  {
   "cell_type": "code",
   "execution_count": 6,
   "id": "41cffde2-0b36-48a8-922e-6ec4460e6939",
   "metadata": {},
   "outputs": [
    {
     "name": "stdout",
     "output_type": "stream",
     "text": [
      "2.2\n"
     ]
    }
   ],
   "source": [
    "b = y_mean- (x_mean * m) \n",
    "print(b)"
   ]
  },
  {
   "cell_type": "markdown",
   "id": "0b1e753b-4b7a-4d85-89da-5f6fbc4f39d9",
   "metadata": {},
   "source": [
    "### **Regression Function**"
   ]
  },
  {
   "cell_type": "code",
   "execution_count": 7,
   "id": "692d74f3-a040-4132-873b-4abb8277fa37",
   "metadata": {},
   "outputs": [],
   "source": [
    "def regression(x):\n",
    "    y =( x * m) + b\n",
    "    return y\n"
   ]
  },
  {
   "cell_type": "code",
   "execution_count": 8,
   "id": "7d5af8d0-48c9-4a7d-a2c1-e8412e443f7f",
   "metadata": {},
   "outputs": [
    {
     "data": {
      "text/plain": [
       "32.2"
      ]
     },
     "execution_count": 8,
     "metadata": {},
     "output_type": "execute_result"
    }
   ],
   "source": [
    "regression(50)"
   ]
  },
  {
   "cell_type": "markdown",
   "id": "125b981d-e2fc-49e1-adfd-b798ef5d3a1d",
   "metadata": {},
   "source": [
    "### **Ploting y according to the x Input **"
   ]
  },
  {
   "cell_type": "code",
   "execution_count": 9,
   "id": "e4380041-6214-49bf-849e-054e91af4824",
   "metadata": {},
   "outputs": [
    {
     "data": {
      "text/plain": [
       "<Axes: xlabel='X', ylabel='Y'>"
      ]
     },
     "execution_count": 9,
     "metadata": {},
     "output_type": "execute_result"
    },
    {
     "data": {
      "image/png": "[encoded data removed]",
      "text/plain": [
       "<Figure size 640x480 with 1 Axes>"
      ]
     },
     "metadata": {},
     "output_type": "display_data"
    }
   ],
   "source": [
    "sns.regplot(x='X', y='Y', data=df, \n",
    "            scatter_kws={'color': 'red'}, \n",
    "            line_kws={'color': 'blue'},color='red')"
   ]
  },
  {
   "cell_type": "code",
   "execution_count": 11,
   "id": "375b1f52-e73b-4038-8558-705caf014a74",
   "metadata": {},
   "outputs": [
    {
     "data": {
      "text/plain": [
       "5.8"
      ]
     },
     "execution_count": 11,
     "metadata": {},
     "output_type": "execute_result"
    }
   ],
   "source": [
    "regression(6)"
   ]
  },
  {
   "cell_type": "code",
   "execution_count": null,
   "id": "c1d44717-19ef-4c2f-8024-dd6afb27d356",
   "metadata": {},
   "outputs": [],
   "source": []
  }
 ],
 "metadata": {
  "kernelspec": {
   "display_name": "Python 3 (ipykernel)",
   "language": "python",
   "name": "python3"
  },
  "language_info": {
   "codemirror_mode": {
    "name": "ipython",
    "version": 3
   },
   "file_extension": ".py",
   "mimetype": "text/x-python",
   "name": "python",
   "nbconvert_exporter": "python",
   "pygments_lexer": "ipython3",
   "version": "3.11.7"
  }
 },
 "nbformat": 4,
 "nbformat_minor": 5
}
